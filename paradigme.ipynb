{
 "cells": [
  {
   "cell_type": "code",
   "execution_count": 74,
   "id": "0ffb4252",
   "metadata": {},
   "outputs": [
    {
     "name": "stdout",
     "output_type": "stream",
     "text": [
      "Blu is abird\n",
      "Woo is abird\n",
      "Blu is 10 years old\n",
      "Woo is 15 years old\n"
     ]
    }
   ],
   "source": [
    "class Bird: #mot clef c'est \"class\"\n",
    "    #class attribute\n",
    "    species=\"bird\"\n",
    "    \n",
    "    #instance attribute\n",
    "    def __init__(self,name,age):\n",
    "        self.name=name\n",
    "        self.age=age\n",
    "    \n",
    "#instantiate the parrot class\n",
    "blu=Bird(\"Blu\",10)\n",
    "woo=Bird(\"Woo\",15)\n",
    "\n",
    "\n",
    "blu.name, blu.age #FORME SIMPLE\n",
    "woo.name, woo.age # meykherjouch les deux\n",
    "\n",
    "#access the class attribute\n",
    "print(\"Blu is a{}\".format(blu.__class__.species))\n",
    "print(\"Woo is a{}\".format(woo.__class__.species))\n",
    "\n",
    "#Access the instance attribute\n",
    "print(\"{} is {} years old\".format(blu.name, blu.age))\n",
    "print(\"{} is {} years old\".format(woo.name, woo.age))\n",
    "\n"
   ]
  },
  {
   "cell_type": "code",
   "execution_count": 66,
   "id": "75efde13",
   "metadata": {},
   "outputs": [
    {
     "data": {
      "text/plain": [
       "'Blu is singing Happy'"
      ]
     },
     "execution_count": 66,
     "metadata": {},
     "output_type": "execute_result"
    }
   ],
   "source": [
    "class Bird: #mot clef c'est \"class\"\n",
    "    #class attribute\n",
    "    species=\"bird\"\n",
    "    \n",
    "    #instance attribute\n",
    "    def __init__(self,name,age):\n",
    "        self.name=name\n",
    "        self.age=age\n",
    "    def sing(self,song):\n",
    "        return\"{} is singing {}\".format(self.name,song)\n",
    "    def dance(self):\n",
    "        return\"{} is dancing\".format(self.name)\n",
    "\n",
    "    \n",
    "    \n",
    "    \n",
    "blu=Bird(\"Blu\",10)\n",
    "blu.sing(\"Happy\")"
   ]
  },
  {
   "cell_type": "code",
   "execution_count": 67,
   "id": "b19b6567",
   "metadata": {},
   "outputs": [
    {
     "data": {
      "text/plain": [
       "'Blu is dancing'"
      ]
     },
     "execution_count": 67,
     "metadata": {},
     "output_type": "execute_result"
    }
   ],
   "source": [
    "blu.dance()"
   ]
  },
  {
   "cell_type": "code",
   "execution_count": 71,
   "id": "883e6966",
   "metadata": {},
   "outputs": [],
   "source": [
    "class Panguin(Bird):\n",
    "    def sing(self,song):\n",
    "        print(\"the panguin is singing \",song)\n",
    "    def run(self):\n",
    "        print ('Run faster')"
   ]
  },
  {
   "cell_type": "code",
   "execution_count": 72,
   "id": "8f9f16c4",
   "metadata": {},
   "outputs": [],
   "source": [
    "peggy=Panguin(\"peggy\",5)"
   ]
  },
  {
   "cell_type": "code",
   "execution_count": 73,
   "id": "f5d3a3bd",
   "metadata": {},
   "outputs": [
    {
     "name": "stdout",
     "output_type": "stream",
     "text": [
      "the panguin is singing  Happy\n"
     ]
    }
   ],
   "source": [
    "peggy.sing(\"Happy\")"
   ]
  },
  {
   "cell_type": "code",
   "execution_count": 75,
   "id": "c305cd91",
   "metadata": {},
   "outputs": [],
   "source": []
  },
  {
   "cell_type": "code",
   "execution_count": null,
   "id": "ab97271f",
   "metadata": {},
   "outputs": [],
   "source": []
  }
 ],
 "metadata": {
  "kernelspec": {
   "display_name": "Python 3 (ipykernel)",
   "language": "python",
   "name": "python3"
  },
  "language_info": {
   "codemirror_mode": {
    "name": "ipython",
    "version": 3
   },
   "file_extension": ".py",
   "mimetype": "text/x-python",
   "name": "python",
   "nbconvert_exporter": "python",
   "pygments_lexer": "ipython3",
   "version": "3.9.12"
  }
 },
 "nbformat": 4,
 "nbformat_minor": 5
}
