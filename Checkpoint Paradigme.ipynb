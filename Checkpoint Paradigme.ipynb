{
 "cells": [
  {
   "cell_type": "code",
   "execution_count": 11,
   "id": "11fe214c",
   "metadata": {},
   "outputs": [],
   "source": [
    "class Point3D: #mot clef c'est \"class\"\n",
    "    #instance attribute\n",
    "    def __init__(self,x,y,z):\n",
    "        self.x=x\n",
    "        self.y=y\n",
    "        self.z=z\n",
    "    def aff(self):\n",
    "        print (self.x,self.y,self.z)\n"
   ]
  },
  {
   "cell_type": "code",
   "execution_count": 12,
   "id": "3e41bdf9",
   "metadata": {},
   "outputs": [],
   "source": [
    "var=Point3D(1,2,3)"
   ]
  },
  {
   "cell_type": "code",
   "execution_count": 13,
   "id": "6890a83a",
   "metadata": {},
   "outputs": [
    {
     "name": "stdout",
     "output_type": "stream",
     "text": [
      "1 2 3\n"
     ]
    }
   ],
   "source": [
    "var.aff()"
   ]
  },
  {
   "cell_type": "code",
   "execution_count": 36,
   "id": "7c09aed8",
   "metadata": {},
   "outputs": [],
   "source": [
    "class rect:\n",
    "    \n",
    "    def __init__(self,length,width):\n",
    "        self.length=length\n",
    "        self.width=width\n",
    "    def area(self):\n",
    "        S=self.length*self.width #les var sont length et width et mettre self\n",
    "        print(S)\n",
    "    def perimeter(self):\n",
    "        P=2*(self.length+self.width)\n",
    "        print(P)"
   ]
  },
  {
   "cell_type": "code",
   "execution_count": 37,
   "id": "71cf3633",
   "metadata": {},
   "outputs": [],
   "source": [
    "rslt=rect(4,3)"
   ]
  },
  {
   "cell_type": "code",
   "execution_count": 38,
   "id": "d843af4d",
   "metadata": {},
   "outputs": [
    {
     "name": "stdout",
     "output_type": "stream",
     "text": [
      "12\n"
     ]
    }
   ],
   "source": [
    "rslt.area()"
   ]
  },
  {
   "cell_type": "code",
   "execution_count": 39,
   "id": "9ea619d4",
   "metadata": {},
   "outputs": [
    {
     "name": "stdout",
     "output_type": "stream",
     "text": [
      "14\n"
     ]
    }
   ],
   "source": [
    "rslt.perimeter()"
   ]
  },
  {
   "cell_type": "code",
   "execution_count": 47,
   "id": "f0515c68",
   "metadata": {},
   "outputs": [],
   "source": [
    "#QUESTION3\n",
    "class cercle:\n",
    "    \n",
    "    def __init__(self,rayon,pi):\n",
    "        self.rayon=rayon\n",
    "        self.pi=pi\n",
    "    def area(self):\n",
    "        S=((self.rayon)**2)*self.pi #les var sont length et width et mettre self\n",
    "        print(S)\n",
    "    def perimeter(self):\n",
    "        P=2*self.pi*self.rayon\n",
    "        print(P)"
   ]
  },
  {
   "cell_type": "code",
   "execution_count": 48,
   "id": "e80b6b99",
   "metadata": {},
   "outputs": [],
   "source": [
    "rslt=cercle(2,3.14)"
   ]
  },
  {
   "cell_type": "code",
   "execution_count": 50,
   "id": "205e7967",
   "metadata": {},
   "outputs": [
    {
     "name": "stdout",
     "output_type": "stream",
     "text": [
      "12.56\n"
     ]
    }
   ],
   "source": [
    "rslt.area()"
   ]
  },
  {
   "cell_type": "code",
   "execution_count": 51,
   "id": "2b2b135e",
   "metadata": {},
   "outputs": [
    {
     "name": "stdout",
     "output_type": "stream",
     "text": [
      "12.56\n"
     ]
    }
   ],
   "source": [
    "rslt.perimeter()"
   ]
  },
  {
   "cell_type": "code",
   "execution_count": null,
   "id": "3a465568",
   "metadata": {},
   "outputs": [],
   "source": []
  }
 ],
 "metadata": {
  "kernelspec": {
   "display_name": "Python 3 (ipykernel)",
   "language": "python",
   "name": "python3"
  },
  "language_info": {
   "codemirror_mode": {
    "name": "ipython",
    "version": 3
   },
   "file_extension": ".py",
   "mimetype": "text/x-python",
   "name": "python",
   "nbconvert_exporter": "python",
   "pygments_lexer": "ipython3",
   "version": "3.9.12"
  }
 },
 "nbformat": 4,
 "nbformat_minor": 5
}
