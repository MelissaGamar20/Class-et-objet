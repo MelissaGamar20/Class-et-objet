{
 "cells": [
  {
   "cell_type": "code",
   "execution_count": 1,
   "id": "39c717d0",
   "metadata": {},
   "outputs": [],
   "source": [
    "#QST 01\n",
    "class Point3D: #mot clef c'est \"class\"\n",
    "    #instance attribute\n",
    "    def __init__(self,x,y,z):\n",
    "        self.x=x\n",
    "        self.y=y\n",
    "        self.z=z\n",
    "    def aff(self):\n",
    "        print (self.x,self.y,self.z)"
   ]
  },
  {
   "cell_type": "code",
   "execution_count": 2,
   "id": "d5de74e5",
   "metadata": {},
   "outputs": [],
   "source": [
    "var=Point3D(1,2,3)"
   ]
  },
  {
   "cell_type": "code",
   "execution_count": 3,
   "id": "7f7ac817",
   "metadata": {},
   "outputs": [
    {
     "name": "stdout",
     "output_type": "stream",
     "text": [
      "1 2 3\n"
     ]
    }
   ],
   "source": [
    "var.aff()"
   ]
  },
  {
   "cell_type": "code",
   "execution_count": 4,
   "id": "a24b77e4",
   "metadata": {},
   "outputs": [],
   "source": [
    "#QST 02\n",
    "class rect:\n",
    "    \n",
    "    def __init__(self,length,width):\n",
    "        self.length=length\n",
    "        self.width=width\n",
    "    def area(self):\n",
    "        S=self.length*self.width #les var sont length et width et mettre self\n",
    "        print(S)\n",
    "    def perimeter(self):\n",
    "        P=2*(self.length+self.width)\n",
    "        print(P)"
   ]
  },
  {
   "cell_type": "code",
   "execution_count": 5,
   "id": "07d1b2f3",
   "metadata": {},
   "outputs": [],
   "source": [
    "rslt=rect(4,3)"
   ]
  },
  {
   "cell_type": "code",
   "execution_count": 6,
   "id": "29e31e27",
   "metadata": {},
   "outputs": [
    {
     "name": "stdout",
     "output_type": "stream",
     "text": [
      "12\n"
     ]
    }
   ],
   "source": [
    "rslt.area()"
   ]
  },
  {
   "cell_type": "code",
   "execution_count": 7,
   "id": "51e86fdf",
   "metadata": {},
   "outputs": [],
   "source": [
    "#QST 03\n",
    "class cercle:\n",
    "    \n",
    "    def __init__(self,rayon,pi,x,y):\n",
    "        self.rayon=rayon\n",
    "        self.pi=pi\n",
    "        self.x=x \n",
    "        self.y=y\n",
    "    def area(self):\n",
    "        S=((self.rayon)**2)*self.pi #les var sont length et width et mettre self\n",
    "        print(S)\n",
    "    def perimeter(self):\n",
    "        P=2*self.pi*self.rayon\n",
    "        print(P)\n",
    "    def inside(self):\n",
    "        if self.x and self.y < self.rayon:\n",
    "            print(\"A appartient au cercle C\")\n",
    "        elif self.x and self.y == self.rayon:\n",
    "            print(\"A n'appartient pas au cercle C\")\n",
    "        else:\n",
    "            print(\"A n'appartient pas au cercle C\")"
   ]
  },
  {
   "cell_type": "code",
   "execution_count": 8,
   "id": "9ab15d31",
   "metadata": {},
   "outputs": [],
   "source": [
    "rslt=cercle(2,3.14,2,2)"
   ]
  },
  {
   "cell_type": "code",
   "execution_count": 9,
   "id": "448ae5e1",
   "metadata": {},
   "outputs": [
    {
     "name": "stdout",
     "output_type": "stream",
     "text": [
      "12.56\n"
     ]
    }
   ],
   "source": [
    "rslt.area()"
   ]
  },
  {
   "cell_type": "code",
   "execution_count": 10,
   "id": "1822da14",
   "metadata": {},
   "outputs": [
    {
     "name": "stdout",
     "output_type": "stream",
     "text": [
      "12.56\n"
     ]
    }
   ],
   "source": [
    "rslt.perimeter()"
   ]
  },
  {
   "cell_type": "code",
   "execution_count": 11,
   "id": "08e4240a",
   "metadata": {},
   "outputs": [
    {
     "name": "stdout",
     "output_type": "stream",
     "text": [
      "A n'appartient pas au cercle C\n"
     ]
    }
   ],
   "source": [
    "rslt.inside()"
   ]
  },
  {
   "cell_type": "code",
   "execution_count": 12,
   "id": "f7775d82",
   "metadata": {},
   "outputs": [],
   "source": [
    "#QUESTION04\n",
    "class bank:\n",
    "    def __init__(self,sold,x,y):\n",
    "        self.sold=sold\n",
    "        self.x=x\n",
    "        self.y=y\n",
    "    def dépot(self):\n",
    "        S=self.sold+self.x\n",
    "        print(S)\n",
    "    def retrait(self):\n",
    "        P=self.sold-self.y\n",
    "        print(P)"
   ]
  },
  {
   "cell_type": "code",
   "execution_count": 13,
   "id": "6060ba43",
   "metadata": {},
   "outputs": [],
   "source": [
    "rslt=bank(400,100,100)"
   ]
  },
  {
   "cell_type": "code",
   "execution_count": 14,
   "id": "4d249aa0",
   "metadata": {},
   "outputs": [
    {
     "name": "stdout",
     "output_type": "stream",
     "text": [
      "500\n"
     ]
    }
   ],
   "source": [
    "rslt.dépot()"
   ]
  },
  {
   "cell_type": "code",
   "execution_count": 15,
   "id": "b7d34704",
   "metadata": {},
   "outputs": [
    {
     "name": "stdout",
     "output_type": "stream",
     "text": [
      "300\n"
     ]
    }
   ],
   "source": [
    "rslt.retrait()"
   ]
  },
  {
   "cell_type": "code",
   "execution_count": null,
   "id": "250ee613",
   "metadata": {},
   "outputs": [],
   "source": []
  }
 ],
 "metadata": {
  "kernelspec": {
   "display_name": "Python 3 (ipykernel)",
   "language": "python",
   "name": "python3"
  },
  "language_info": {
   "codemirror_mode": {
    "name": "ipython",
    "version": 3
   },
   "file_extension": ".py",
   "mimetype": "text/x-python",
   "name": "python",
   "nbconvert_exporter": "python",
   "pygments_lexer": "ipython3",
   "version": "3.9.12"
  }
 },
 "nbformat": 4,
 "nbformat_minor": 5
}
